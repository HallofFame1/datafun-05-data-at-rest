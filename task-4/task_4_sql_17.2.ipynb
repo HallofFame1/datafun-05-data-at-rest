{
    "metadata": {
        "kernelspec": {
            "name": "python3",
            "display_name": "Python 3 (ipykernel)",
            "language": "python"
        },
        "language_info": {
            "name": "python",
            "version": "3.10.7",
            "mimetype": "text/x-python",
            "codemirror_mode": {
                "name": "ipython",
                "version": 3
            },
            "pygments_lexer": "ipython3",
            "nbconvert_exporter": "python",
            "file_extension": ".py"
        },
        "vscode": {
            "interpreter": {
                "hash": "aee8b7b246df8f9039afb4144a1f6fd8d2ca17a180786b69acc140d282b71a49"
            }
        }
    },
    "nbformat_minor": 2,
    "nbformat": 4,
    "cells": [
        {
            "cell_type": "markdown",
            "source": [
                "# Task 4 (SQL) - Assignment \n",
                "### Name: Hammond Helen\n",
                "### Date: February 11th 2023\n",
                "\n",
                "### 17.2 Relational Databases and Structured Query Language (SQL)\n",
                "\n",
                "Relational database management systems (RDBMSs) store data in tables and define relationships among the tables. Structured Query Language (SQL) is used almost universally with relational database systems to manipulate data and perform queries, which request information that satisfies given criteria\n",
                "\n",
                "### Tables, Rows and Columns\n",
                "A relational database is a logical table-based representation of data that allows the data to be accessed without consideration of its physical structure.\n",
                "\n",
                "Tables are composed of rows, each describing a single entity. Here, each row represents one employee. Rows are composed of columns containing individual attribute values\n",
                "\n",
                "### Selecting Data Subsets\n",
                "Different database users are often interested in different data and different relationships among the data. Most users require only subsets of the rows and columns. Queries specify which subsets of the data to select from a table. You use Structured Query Language (SQL) to define queries.\n",
                "\n",
                "### SQLite\n",
                "The code examples in the rest of Section 17.2 use the open-source SQLite database management system that’s included with Python, but most popular database systems have Python support. Each typically provides a module that adheres to Python’s Database Application Programming Interface (DB-API), which specifies common object and method names for manipulating any database."
            ],
            "metadata": {
                "azdata_cell_guid": "1083245b-1f59-47a0-ad7e-47a940ea77b6"
            },
            "attachments": {}
        },
        {
            "cell_type": "markdown",
            "source": [
                "Follow the instructions in 17.2.1 (starting page 730)  \n",
                "Don't work in interactive mode - use a notebook  \n",
                "IMPORTANT: create the table using the books.sql script provided with the author files. See [https://github.com/pdeitel/IntroToPython/blob/master/examples/ch17/sql/books.sqlLinks](https://github.com/pdeitel/IntroToPython/blob/master/examples/ch17/sql/books.sqlLinks) to an external site.  \n",
                "Import the sqlite3 module and use the connect function to create a connection to your database."
            ],
            "metadata": {
                "azdata_cell_guid": "c4c253c2-9bdb-4342-b533-263b8403b073"
            },
            "attachments": {}
        },
        {
            "cell_type": "markdown",
            "source": [
                "### Importing SQLite module"
            ],
            "metadata": {
                "azdata_cell_guid": "c35a4c1d-5149-4292-97b5-0fab74456b8a"
            },
            "attachments": {}
        },
        {
            "cell_type": "code",
            "source": [
                "import sqlite3"
            ],
            "metadata": {
                "azdata_cell_guid": "4cf9db8c-38c8-45b4-aeaa-c9f5acb802ee",
                "language": "python"
            },
            "outputs": [],
            "execution_count": 1
        },
        {
            "cell_type": "markdown",
            "source": [
                "### Connecting to the Database in Python"
            ],
            "metadata": {
                "azdata_cell_guid": "51eeb3f5-d414-454d-b8a7-38686e335103"
            },
            "attachments": {}
        },
        {
            "cell_type": "code",
            "source": [
                "connection = sqlite3.connect('books.db')"
            ],
            "metadata": {
                "azdata_cell_guid": "608c749f-5635-4f54-823e-0cea4153b7ca",
                "language": "python"
            },
            "outputs": [],
            "execution_count": 2
        },
        {
            "cell_type": "markdown",
            "source": [
                "## 17.2.1 A `books` Database\n",
                "\n",
                "### Creating the `books` Database"
            ],
            "metadata": {
                "azdata_cell_guid": "93a4b595-b951-4240-90bd-b48d97844b96"
            },
            "attachments": {}
        },
        {
            "cell_type": "code",
            "source": [
                "with open('books.sql','r') as f:\n",
                "    connection.executescript(f.read())\n"
            ],
            "metadata": {
                "azdata_cell_guid": "73c23a19-2a4d-45d1-ae52-a6fd1da4ff2d",
                "language": "python"
            },
            "outputs": [],
            "execution_count": 3
        },
        {
            "cell_type": "markdown",
            "source": [
                "After running the script, there should be 3 tables: authors, author\\_ISBN, and titles.  \n",
                "Import pandas as pd"
            ],
            "metadata": {
                "azdata_cell_guid": "87e4e226-b360-4d41-8bda-8a5c6de6728c"
            },
            "attachments": {}
        },
        {
            "cell_type": "code",
            "source": [
                "import pandas as pd"
            ],
            "metadata": {
                "azdata_cell_guid": "8b8db3fd-63a8-4df2-bb27-8c8deb9c6fd7",
                "language": "python"
            },
            "outputs": [],
            "execution_count": 4
        },
        {
            "cell_type": "markdown",
            "source": [
                "Use pd options.display to set the max\\_columns to 10"
            ],
            "metadata": {
                "azdata_cell_guid": "7453419c-c95f-4da2-a501-b8a8b8636929",
                "language": "python"
            },
            "attachments": {}
        },
        {
            "cell_type": "code",
            "source": [
                "pd.options.display.max_columns = 10"
            ],
            "metadata": {
                "azdata_cell_guid": "616b979f-9079-4871-8db9-00e4048ceac7",
                "language": "python"
            },
            "outputs": [],
            "execution_count": 5
        },
        {
            "cell_type": "markdown",
            "source": [
                "Use pd read\\_sql fuction to select everything (\\*) from the authors table, then the titles table, then the author\\_ISBN table."
            ],
            "metadata": {
                "azdata_cell_guid": "9da5bd0c-d3bd-4f79-beec-a53a66a8ff65",
                "language": "python"
            },
            "attachments": {}
        },
        {
            "cell_type": "markdown",
            "source": [
                "### `authors` Table\n",
                "\n",
                "### Viewing the `authors` Table’s Contents"
            ],
            "metadata": {
                "azdata_cell_guid": "d09f1873-c28b-4b6c-ac78-f8bfce13ab69",
                "language": "python"
            },
            "attachments": {}
        },
        {
            "cell_type": "code",
            "source": [
                "pd.read_sql('SELECT * FROM authors', connection, index_col='id')"
            ],
            "metadata": {
                "azdata_cell_guid": "441d3e09-877a-42c5-b6d4-da0d18ea60bb",
                "language": "python"
            },
            "outputs": [
                {
                    "data": {
                        "text/plain": "        first    last\nid                   \n1        Paul  Deitel\n2      Harvey  Deitel\n3       Abbey  Deitel\n4         Dan   Quirk\n5   Alexander    Wald",
                        "text/html": "<div>\n<style scoped>\n    .dataframe tbody tr th:only-of-type {\n        vertical-align: middle;\n    }\n\n    .dataframe tbody tr th {\n        vertical-align: top;\n    }\n\n    .dataframe thead th {\n        text-align: right;\n    }\n</style>\n<table border=\"1\" class=\"dataframe\">\n  <thead>\n    <tr style=\"text-align: right;\">\n      <th></th>\n      <th>first</th>\n      <th>last</th>\n    </tr>\n    <tr>\n      <th>id</th>\n      <th></th>\n      <th></th>\n    </tr>\n  </thead>\n  <tbody>\n    <tr>\n      <th>1</th>\n      <td>Paul</td>\n      <td>Deitel</td>\n    </tr>\n    <tr>\n      <th>2</th>\n      <td>Harvey</td>\n      <td>Deitel</td>\n    </tr>\n    <tr>\n      <th>3</th>\n      <td>Abbey</td>\n      <td>Deitel</td>\n    </tr>\n    <tr>\n      <th>4</th>\n      <td>Dan</td>\n      <td>Quirk</td>\n    </tr>\n    <tr>\n      <th>5</th>\n      <td>Alexander</td>\n      <td>Wald</td>\n    </tr>\n  </tbody>\n</table>\n</div>"
                    },
                    "metadata": {},
                    "execution_count": 6,
                    "output_type": "execute_result"
                }
            ],
            "execution_count": 6
        },
        {
            "cell_type": "markdown",
            "source": [
                "### `titles` Table\n",
                "\n",
                "### Viewing the `titles` Table’s Contents"
            ],
            "metadata": {
                "azdata_cell_guid": "878a2bf4-4aef-4702-8938-f03bbf3eb32a"
            },
            "attachments": {}
        },
        {
            "cell_type": "code",
            "source": [
                "pd.read_sql('SELECT * FROM titles', connection)"
            ],
            "metadata": {
                "azdata_cell_guid": "5557b274-4240-45e5-ab6c-04ef8d9a3db3",
                "language": "python"
            },
            "outputs": [
                {
                    "data": {
                        "text/plain": "         isbn                             title  edition copyright\n0  0135404673     Intro to Python for CS and DS        1      2020\n1  0132151006     Internet & WWW How to Program        5      2012\n2  0134743350               Java How to Program       11      2018\n3  0133976890                  C How to Program        8      2016\n4  0133406954  Visual Basic 2012 How to Program        6      2014\n5  0134601548          Visual C# How to Program        6      2017\n6  0136151574         Visual C++ How to Program        2      2008\n7  0134448235                C++ How to Program       10      2017\n8  0134444302            Android How to Program        3      2017\n9  0134289366         Android 6 for Programmers        3      2016",
                        "text/html": "<div>\n<style scoped>\n    .dataframe tbody tr th:only-of-type {\n        vertical-align: middle;\n    }\n\n    .dataframe tbody tr th {\n        vertical-align: top;\n    }\n\n    .dataframe thead th {\n        text-align: right;\n    }\n</style>\n<table border=\"1\" class=\"dataframe\">\n  <thead>\n    <tr style=\"text-align: right;\">\n      <th></th>\n      <th>isbn</th>\n      <th>title</th>\n      <th>edition</th>\n      <th>copyright</th>\n    </tr>\n  </thead>\n  <tbody>\n    <tr>\n      <th>0</th>\n      <td>0135404673</td>\n      <td>Intro to Python for CS and DS</td>\n      <td>1</td>\n      <td>2020</td>\n    </tr>\n    <tr>\n      <th>1</th>\n      <td>0132151006</td>\n      <td>Internet &amp; WWW How to Program</td>\n      <td>5</td>\n      <td>2012</td>\n    </tr>\n    <tr>\n      <th>2</th>\n      <td>0134743350</td>\n      <td>Java How to Program</td>\n      <td>11</td>\n      <td>2018</td>\n    </tr>\n    <tr>\n      <th>3</th>\n      <td>0133976890</td>\n      <td>C How to Program</td>\n      <td>8</td>\n      <td>2016</td>\n    </tr>\n    <tr>\n      <th>4</th>\n      <td>0133406954</td>\n      <td>Visual Basic 2012 How to Program</td>\n      <td>6</td>\n      <td>2014</td>\n    </tr>\n    <tr>\n      <th>5</th>\n      <td>0134601548</td>\n      <td>Visual C# How to Program</td>\n      <td>6</td>\n      <td>2017</td>\n    </tr>\n    <tr>\n      <th>6</th>\n      <td>0136151574</td>\n      <td>Visual C++ How to Program</td>\n      <td>2</td>\n      <td>2008</td>\n    </tr>\n    <tr>\n      <th>7</th>\n      <td>0134448235</td>\n      <td>C++ How to Program</td>\n      <td>10</td>\n      <td>2017</td>\n    </tr>\n    <tr>\n      <th>8</th>\n      <td>0134444302</td>\n      <td>Android How to Program</td>\n      <td>3</td>\n      <td>2017</td>\n    </tr>\n    <tr>\n      <th>9</th>\n      <td>0134289366</td>\n      <td>Android 6 for Programmers</td>\n      <td>3</td>\n      <td>2016</td>\n    </tr>\n  </tbody>\n</table>\n</div>"
                    },
                    "metadata": {},
                    "execution_count": 7,
                    "output_type": "execute_result"
                }
            ],
            "execution_count": 7
        },
        {
            "cell_type": "markdown",
            "source": [
                "### `author_ISBN` Table\n",
                "\n",
                "### Selecting the `authors_ISBN` Table’s Contents into a dataframe"
            ],
            "metadata": {
                "azdata_cell_guid": "959991be-bdd2-4aca-9f51-0c8f1531b503"
            },
            "attachments": {}
        },
        {
            "cell_type": "code",
            "source": [
                "df_authors_isbn = pd.read_sql('SELECT * FROM author_ISBN', connection)"
            ],
            "metadata": {
                "azdata_cell_guid": "4061dcb3-0918-42d1-bf71-e8b90382e413",
                "language": "python"
            },
            "outputs": [],
            "execution_count": 8
        },
        {
            "cell_type": "markdown",
            "source": [
                "### Viewing the top 10 `authors_ISBN` Table’s Contents"
            ],
            "metadata": {
                "azdata_cell_guid": "9222b41e-f361-4828-935d-5112b72d8dad",
                "language": "python"
            },
            "attachments": {}
        },
        {
            "cell_type": "code",
            "source": [
                "df_authors_isbn.head(10)"
            ],
            "metadata": {
                "azdata_cell_guid": "7eba95a4-93b7-46d7-80e5-bf5ce51c3dfb",
                "language": "python"
            },
            "outputs": [
                {
                    "data": {
                        "text/plain": "   id        isbn\n0   1  0134289366\n1   2  0134289366\n2   5  0134289366\n3   1  0135404673\n4   2  0135404673\n5   1  0132151006\n6   2  0132151006\n7   3  0132151006\n8   1  0134743350\n9   2  0134743350",
                        "text/html": "<div>\n<style scoped>\n    .dataframe tbody tr th:only-of-type {\n        vertical-align: middle;\n    }\n\n    .dataframe tbody tr th {\n        vertical-align: top;\n    }\n\n    .dataframe thead th {\n        text-align: right;\n    }\n</style>\n<table border=\"1\" class=\"dataframe\">\n  <thead>\n    <tr style=\"text-align: right;\">\n      <th></th>\n      <th>id</th>\n      <th>isbn</th>\n    </tr>\n  </thead>\n  <tbody>\n    <tr>\n      <th>0</th>\n      <td>1</td>\n      <td>0134289366</td>\n    </tr>\n    <tr>\n      <th>1</th>\n      <td>2</td>\n      <td>0134289366</td>\n    </tr>\n    <tr>\n      <th>2</th>\n      <td>5</td>\n      <td>0134289366</td>\n    </tr>\n    <tr>\n      <th>3</th>\n      <td>1</td>\n      <td>0135404673</td>\n    </tr>\n    <tr>\n      <th>4</th>\n      <td>2</td>\n      <td>0135404673</td>\n    </tr>\n    <tr>\n      <th>5</th>\n      <td>1</td>\n      <td>0132151006</td>\n    </tr>\n    <tr>\n      <th>6</th>\n      <td>2</td>\n      <td>0132151006</td>\n    </tr>\n    <tr>\n      <th>7</th>\n      <td>3</td>\n      <td>0132151006</td>\n    </tr>\n    <tr>\n      <th>8</th>\n      <td>1</td>\n      <td>0134743350</td>\n    </tr>\n    <tr>\n      <th>9</th>\n      <td>2</td>\n      <td>0134743350</td>\n    </tr>\n  </tbody>\n</table>\n</div>"
                    },
                    "metadata": {},
                    "execution_count": 9,
                    "output_type": "execute_result"
                }
            ],
            "execution_count": 9
        },
        {
            "cell_type": "markdown",
            "source": [
                "### Entity-Relationship (ER) Diagram\n",
                "\n",
                "### SQL Keywords\n",
                "\n",
                "##"
            ],
            "metadata": {
                "azdata_cell_guid": "f5be28d7-bca7-46be-a376-de0b89519e85"
            },
            "attachments": {}
        },
        {
            "cell_type": "markdown",
            "source": [
                "Complete 17.2.2 SELECT (1 query)"
            ],
            "metadata": {
                "azdata_cell_guid": "86ead97b-9ee5-445f-b7ea-cb7c621fed3e"
            },
            "attachments": {}
        },
        {
            "cell_type": "markdown",
            "source": [
                "# SECTION 1. `SELECT` Queries"
            ],
            "metadata": {
                "azdata_cell_guid": "ac54090e-d046-4669-8c57-1299b09ad77c"
            },
            "attachments": {}
        },
        {
            "cell_type": "markdown",
            "source": [
                "Here, we are displaying the first and last name of the auhors. We do this by specifying the column names"
            ],
            "metadata": {
                "azdata_cell_guid": "83ffa1dd-51d4-44ee-b7cd-4e80ef1e7208"
            },
            "attachments": {}
        },
        {
            "cell_type": "code",
            "source": [
                "pd.read_sql(\"\"\"\n",
                "                SELECT \n",
                "                    first,\n",
                "                    last \n",
                "                FROM \n",
                "                    authors\"\"\", connection)"
            ],
            "metadata": {
                "azdata_cell_guid": "24510490-9561-46d2-baf0-543800e9d468",
                "language": "python"
            },
            "outputs": [
                {
                    "data": {
                        "text/plain": "       first    last\n0       Paul  Deitel\n1     Harvey  Deitel\n2      Abbey  Deitel\n3        Dan   Quirk\n4  Alexander    Wald",
                        "text/html": "<div>\n<style scoped>\n    .dataframe tbody tr th:only-of-type {\n        vertical-align: middle;\n    }\n\n    .dataframe tbody tr th {\n        vertical-align: top;\n    }\n\n    .dataframe thead th {\n        text-align: right;\n    }\n</style>\n<table border=\"1\" class=\"dataframe\">\n  <thead>\n    <tr style=\"text-align: right;\">\n      <th></th>\n      <th>first</th>\n      <th>last</th>\n    </tr>\n  </thead>\n  <tbody>\n    <tr>\n      <th>0</th>\n      <td>Paul</td>\n      <td>Deitel</td>\n    </tr>\n    <tr>\n      <th>1</th>\n      <td>Harvey</td>\n      <td>Deitel</td>\n    </tr>\n    <tr>\n      <th>2</th>\n      <td>Abbey</td>\n      <td>Deitel</td>\n    </tr>\n    <tr>\n      <th>3</th>\n      <td>Dan</td>\n      <td>Quirk</td>\n    </tr>\n    <tr>\n      <th>4</th>\n      <td>Alexander</td>\n      <td>Wald</td>\n    </tr>\n  </tbody>\n</table>\n</div>"
                    },
                    "metadata": {},
                    "execution_count": 10,
                    "output_type": "execute_result"
                }
            ],
            "execution_count": 10
        },
        {
            "cell_type": "markdown",
            "source": [
                "## Self Check\n",
                "A **foreign** key is a field in a table for which every entry has a unique value in another table and where the field in the other table is the primary key for that table.\n",
                "\n",
                "(TRUE/FALSE) Every foreign-key value must appear as another table’s primary-key value so the DBMS can ensure that the foreign-key value is valid—this is known as the Rule of Entity Integrity.\n",
                "\n",
                "Answer: **False**. This is known as the Rule of Referential Integrity. The Rule of Entity Integrity states that every row must have a primary-key value, and that value must be unique in the table."
            ],
            "metadata": {
                "azdata_cell_guid": "4a78afe8-5665-44cb-8879-8a01b1ea4e48"
            },
            "attachments": {}
        },
        {
            "cell_type": "markdown",
            "source": [
                "Complete 17.2.3 WHERE (3 queries)"
            ],
            "metadata": {
                "azdata_cell_guid": "0cb0cbc5-1e8b-4015-a5d3-adb81816659a"
            },
            "attachments": {}
        },
        {
            "cell_type": "markdown",
            "source": [
                "# SECTION 2. `WHERE` Clause"
            ],
            "metadata": {
                "azdata_cell_guid": "9304beb0-c854-4a80-b07c-aee65e27189e"
            },
            "attachments": {}
        },
        {
            "cell_type": "markdown",
            "source": [
                "SQL’s WHERE clause specifies a query’s selection criteria. Let’s select the title, edition and copyright for all books with copyright years greater than 2016. String values in SQL queries are delimited by single (') quotes, as in '2016':"
            ],
            "metadata": {
                "azdata_cell_guid": "40ab32d0-dcaa-48fa-bbd4-1843e1a5240d"
            },
            "attachments": {}
        },
        {
            "cell_type": "code",
            "source": [
                "pd.read_sql(\"\"\"\n",
                "                SELECT \n",
                "                    title, \n",
                "                    edition, \n",
                "                    copyright \n",
                "                FROM \n",
                "                    titles \n",
                "                WHERE \n",
                "                    copyright > '2016'\"\"\", connection)"
            ],
            "metadata": {
                "azdata_cell_guid": "489a0d9b-194d-48cf-9305-8236faf64bf3",
                "language": "python"
            },
            "outputs": [
                {
                    "data": {
                        "text/plain": "                           title  edition copyright\n0  Intro to Python for CS and DS        1      2020\n1            Java How to Program       11      2018\n2       Visual C# How to Program        6      2017\n3             C++ How to Program       10      2017\n4         Android How to Program        3      2017",
                        "text/html": "<div>\n<style scoped>\n    .dataframe tbody tr th:only-of-type {\n        vertical-align: middle;\n    }\n\n    .dataframe tbody tr th {\n        vertical-align: top;\n    }\n\n    .dataframe thead th {\n        text-align: right;\n    }\n</style>\n<table border=\"1\" class=\"dataframe\">\n  <thead>\n    <tr style=\"text-align: right;\">\n      <th></th>\n      <th>title</th>\n      <th>edition</th>\n      <th>copyright</th>\n    </tr>\n  </thead>\n  <tbody>\n    <tr>\n      <th>0</th>\n      <td>Intro to Python for CS and DS</td>\n      <td>1</td>\n      <td>2020</td>\n    </tr>\n    <tr>\n      <th>1</th>\n      <td>Java How to Program</td>\n      <td>11</td>\n      <td>2018</td>\n    </tr>\n    <tr>\n      <th>2</th>\n      <td>Visual C# How to Program</td>\n      <td>6</td>\n      <td>2017</td>\n    </tr>\n    <tr>\n      <th>3</th>\n      <td>C++ How to Program</td>\n      <td>10</td>\n      <td>2017</td>\n    </tr>\n    <tr>\n      <th>4</th>\n      <td>Android How to Program</td>\n      <td>3</td>\n      <td>2017</td>\n    </tr>\n  </tbody>\n</table>\n</div>"
                    },
                    "metadata": {},
                    "execution_count": 11,
                    "output_type": "execute_result"
                }
            ],
            "execution_count": 11
        },
        {
            "cell_type": "markdown",
            "source": [
                "### Pattern Matching: Zero or More Characters \n",
                "A pattern that contains the percent (%) wildcard character searches for strings that have zero or more characters at the percent character’s position in the pattern. For example, let’s locate all authors whose last name starts with the letter D:"
            ],
            "metadata": {
                "azdata_cell_guid": "d49d8858-6749-45d9-ac4c-cc1d466ce05d"
            },
            "attachments": {}
        },
        {
            "cell_type": "code",
            "source": [
                "pd.read_sql(\"\"\"\n",
                "                SELECT \n",
                "                    id, \n",
                "                    first, \n",
                "                    last \n",
                "                FROM \n",
                "                    authors \n",
                "                WHERE \n",
                "                    last LIKE 'D%'\"\"\", connection, index_col=['id'])"
            ],
            "metadata": {
                "azdata_cell_guid": "cee0cfdf-0fa0-461a-9b17-76d67d9e2f06",
                "language": "python"
            },
            "outputs": [
                {
                    "data": {
                        "text/plain": "     first    last\nid                \n1     Paul  Deitel\n2   Harvey  Deitel\n3    Abbey  Deitel",
                        "text/html": "<div>\n<style scoped>\n    .dataframe tbody tr th:only-of-type {\n        vertical-align: middle;\n    }\n\n    .dataframe tbody tr th {\n        vertical-align: top;\n    }\n\n    .dataframe thead th {\n        text-align: right;\n    }\n</style>\n<table border=\"1\" class=\"dataframe\">\n  <thead>\n    <tr style=\"text-align: right;\">\n      <th></th>\n      <th>first</th>\n      <th>last</th>\n    </tr>\n    <tr>\n      <th>id</th>\n      <th></th>\n      <th></th>\n    </tr>\n  </thead>\n  <tbody>\n    <tr>\n      <th>1</th>\n      <td>Paul</td>\n      <td>Deitel</td>\n    </tr>\n    <tr>\n      <th>2</th>\n      <td>Harvey</td>\n      <td>Deitel</td>\n    </tr>\n    <tr>\n      <th>3</th>\n      <td>Abbey</td>\n      <td>Deitel</td>\n    </tr>\n  </tbody>\n</table>\n</div>"
                    },
                    "metadata": {},
                    "execution_count": 12,
                    "output_type": "execute_result"
                }
            ],
            "execution_count": 12
        },
        {
            "cell_type": "markdown",
            "source": [
                "### Pattern Matching: Any Character\n",
                "An underscore (_) in the pattern string indicates a single wildcard character at that position. Let’s select the rows of all the authors whose last names start with any character, followed by the letter b, followed by any number of additional characters (specified by %):"
            ],
            "metadata": {
                "azdata_cell_guid": "e84976af-d28f-414d-8898-8cb58859f933"
            },
            "attachments": {}
        },
        {
            "cell_type": "code",
            "source": [
                "pd.read_sql(\"\"\"\n",
                "                SELECT \n",
                "                    id, \n",
                "                    first, \n",
                "                    last \n",
                "                FROM \n",
                "                    authors \n",
                "                WHERE  \n",
                "                    first LIKE '_b%'\"\"\", connection, index_col=['id'])"
            ],
            "metadata": {
                "azdata_cell_guid": "844de086-71ae-4fec-92f2-805353ce5276",
                "language": "python"
            },
            "outputs": [
                {
                    "data": {
                        "text/plain": "    first    last\nid               \n3   Abbey  Deitel",
                        "text/html": "<div>\n<style scoped>\n    .dataframe tbody tr th:only-of-type {\n        vertical-align: middle;\n    }\n\n    .dataframe tbody tr th {\n        vertical-align: top;\n    }\n\n    .dataframe thead th {\n        text-align: right;\n    }\n</style>\n<table border=\"1\" class=\"dataframe\">\n  <thead>\n    <tr style=\"text-align: right;\">\n      <th></th>\n      <th>first</th>\n      <th>last</th>\n    </tr>\n    <tr>\n      <th>id</th>\n      <th></th>\n      <th></th>\n    </tr>\n  </thead>\n  <tbody>\n    <tr>\n      <th>3</th>\n      <td>Abbey</td>\n      <td>Deitel</td>\n    </tr>\n  </tbody>\n</table>\n</div>"
                    },
                    "metadata": {},
                    "execution_count": 13,
                    "output_type": "execute_result"
                }
            ],
            "execution_count": 13
        },
        {
            "cell_type": "markdown",
            "source": [
                "## Self Check\n",
                "SQL keyword **WHERE** is followed by the selection criteria that specify the records to select in a query."
            ],
            "metadata": {
                "azdata_cell_guid": "36717593-1561-4955-83a5-67288143e49d",
                "language": "python"
            },
            "attachments": {}
        },
        {
            "cell_type": "markdown",
            "source": [
                "Complete 17.2.4 ORDER BY (4 queries)"
            ],
            "metadata": {
                "azdata_cell_guid": "ceff85e8-0b11-4bab-8063-66785d399b83",
                "language": "python"
            },
            "attachments": {}
        },
        {
            "cell_type": "markdown",
            "source": [
                "# SECTION 3. `ORDER BY` Clause"
            ],
            "metadata": {
                "azdata_cell_guid": "9c843217-dfd9-4dd7-998e-5613ee506bf4"
            },
            "attachments": {}
        },
        {
            "cell_type": "markdown",
            "source": [
                "The ORDER BY clause sorts a query’s results into ascending order (lowest to highest) or descending order (highest to lowest), specified with ASC and DESC, respectively. The default sorting order is ascending, so ASC is optional. Let’s sort the titles in ascending order:"
            ],
            "metadata": {
                "azdata_cell_guid": "13aacfd6-1c80-4bfe-9a78-002f6edb60bc"
            },
            "attachments": {}
        },
        {
            "cell_type": "code",
            "source": [
                "pd.read_sql(\"\"\"\n",
                "                SELECT \n",
                "                    title \n",
                "                FROM \n",
                "                    titles \n",
                "                ORDER BY \n",
                "                    title ASC\"\"\", connection)"
            ],
            "metadata": {
                "azdata_cell_guid": "93c0083e-5379-4119-8e74-e265cb6eee8a",
                "language": "python"
            },
            "outputs": [
                {
                    "data": {
                        "text/plain": "                              title\n0         Android 6 for Programmers\n1            Android How to Program\n2                  C How to Program\n3                C++ How to Program\n4     Internet & WWW How to Program\n5     Intro to Python for CS and DS\n6               Java How to Program\n7  Visual Basic 2012 How to Program\n8          Visual C# How to Program\n9         Visual C++ How to Program",
                        "text/html": "<div>\n<style scoped>\n    .dataframe tbody tr th:only-of-type {\n        vertical-align: middle;\n    }\n\n    .dataframe tbody tr th {\n        vertical-align: top;\n    }\n\n    .dataframe thead th {\n        text-align: right;\n    }\n</style>\n<table border=\"1\" class=\"dataframe\">\n  <thead>\n    <tr style=\"text-align: right;\">\n      <th></th>\n      <th>title</th>\n    </tr>\n  </thead>\n  <tbody>\n    <tr>\n      <th>0</th>\n      <td>Android 6 for Programmers</td>\n    </tr>\n    <tr>\n      <th>1</th>\n      <td>Android How to Program</td>\n    </tr>\n    <tr>\n      <th>2</th>\n      <td>C How to Program</td>\n    </tr>\n    <tr>\n      <th>3</th>\n      <td>C++ How to Program</td>\n    </tr>\n    <tr>\n      <th>4</th>\n      <td>Internet &amp; WWW How to Program</td>\n    </tr>\n    <tr>\n      <th>5</th>\n      <td>Intro to Python for CS and DS</td>\n    </tr>\n    <tr>\n      <th>6</th>\n      <td>Java How to Program</td>\n    </tr>\n    <tr>\n      <th>7</th>\n      <td>Visual Basic 2012 How to Program</td>\n    </tr>\n    <tr>\n      <th>8</th>\n      <td>Visual C# How to Program</td>\n    </tr>\n    <tr>\n      <th>9</th>\n      <td>Visual C++ How to Program</td>\n    </tr>\n  </tbody>\n</table>\n</div>"
                    },
                    "metadata": {},
                    "execution_count": 14,
                    "output_type": "execute_result"
                }
            ],
            "execution_count": 14
        },
        {
            "cell_type": "markdown",
            "source": [
                "### Sorting By Multiple Columns\n",
                "To sort by multiple columns, specify a comma-separated list of column names after the ORDER BY keywords. Let’s sort the authors’ names by last name, then by first name for any authors who have the same last name:"
            ],
            "metadata": {
                "azdata_cell_guid": "0fd9877e-537b-474d-8f89-75d4d771e188"
            },
            "attachments": {}
        },
        {
            "cell_type": "code",
            "source": [
                "pd.read_sql(\"\"\"\n",
                "                SELECT \n",
                "                    id,\n",
                "                    first,\n",
                "                    last\n",
                "                FROM \n",
                "                    authors \n",
                "                ORDER BY \n",
                "                    last, first\"\"\", connection, index_col=['id'])"
            ],
            "metadata": {
                "azdata_cell_guid": "4931ade2-eb52-4571-b080-d469c148d8d7",
                "language": "python"
            },
            "outputs": [
                {
                    "data": {
                        "text/plain": "        first    last\nid                   \n3       Abbey  Deitel\n2      Harvey  Deitel\n1        Paul  Deitel\n4         Dan   Quirk\n5   Alexander    Wald",
                        "text/html": "<div>\n<style scoped>\n    .dataframe tbody tr th:only-of-type {\n        vertical-align: middle;\n    }\n\n    .dataframe tbody tr th {\n        vertical-align: top;\n    }\n\n    .dataframe thead th {\n        text-align: right;\n    }\n</style>\n<table border=\"1\" class=\"dataframe\">\n  <thead>\n    <tr style=\"text-align: right;\">\n      <th></th>\n      <th>first</th>\n      <th>last</th>\n    </tr>\n    <tr>\n      <th>id</th>\n      <th></th>\n      <th></th>\n    </tr>\n  </thead>\n  <tbody>\n    <tr>\n      <th>3</th>\n      <td>Abbey</td>\n      <td>Deitel</td>\n    </tr>\n    <tr>\n      <th>2</th>\n      <td>Harvey</td>\n      <td>Deitel</td>\n    </tr>\n    <tr>\n      <th>1</th>\n      <td>Paul</td>\n      <td>Deitel</td>\n    </tr>\n    <tr>\n      <th>4</th>\n      <td>Dan</td>\n      <td>Quirk</td>\n    </tr>\n    <tr>\n      <th>5</th>\n      <td>Alexander</td>\n      <td>Wald</td>\n    </tr>\n  </tbody>\n</table>\n</div>"
                    },
                    "metadata": {},
                    "execution_count": 15,
                    "output_type": "execute_result"
                }
            ],
            "execution_count": 15
        },
        {
            "cell_type": "markdown",
            "source": [
                "The sorting order can vary by column. Let’s sort the authors in descending order by last name and ascending order by first name for any authors who have the same last name:\n",
                "\n"
            ],
            "metadata": {
                "azdata_cell_guid": "a8d8808b-ded4-4078-862b-9b1002653a25",
                "language": "python"
            },
            "attachments": {}
        },
        {
            "cell_type": "code",
            "source": [
                "pd.read_sql(\"\"\"\n",
                "                SELECT \n",
                "                    id,\n",
                "                    first,\n",
                "                    last\n",
                "                FROM \n",
                "                    authors \n",
                "                ORDER BY \n",
                "                    last DESC, first ASC\"\"\", connection, index_col=['id'])"
            ],
            "metadata": {
                "azdata_cell_guid": "4835fcc3-840f-44e6-a2a0-ba4dc8636900",
                "language": "python",
                "tags": []
            },
            "outputs": [
                {
                    "data": {
                        "text/plain": "        first    last\nid                   \n5   Alexander    Wald\n4         Dan   Quirk\n3       Abbey  Deitel\n2      Harvey  Deitel\n1        Paul  Deitel",
                        "text/html": "<div>\n<style scoped>\n    .dataframe tbody tr th:only-of-type {\n        vertical-align: middle;\n    }\n\n    .dataframe tbody tr th {\n        vertical-align: top;\n    }\n\n    .dataframe thead th {\n        text-align: right;\n    }\n</style>\n<table border=\"1\" class=\"dataframe\">\n  <thead>\n    <tr style=\"text-align: right;\">\n      <th></th>\n      <th>first</th>\n      <th>last</th>\n    </tr>\n    <tr>\n      <th>id</th>\n      <th></th>\n      <th></th>\n    </tr>\n  </thead>\n  <tbody>\n    <tr>\n      <th>5</th>\n      <td>Alexander</td>\n      <td>Wald</td>\n    </tr>\n    <tr>\n      <th>4</th>\n      <td>Dan</td>\n      <td>Quirk</td>\n    </tr>\n    <tr>\n      <th>3</th>\n      <td>Abbey</td>\n      <td>Deitel</td>\n    </tr>\n    <tr>\n      <th>2</th>\n      <td>Harvey</td>\n      <td>Deitel</td>\n    </tr>\n    <tr>\n      <th>1</th>\n      <td>Paul</td>\n      <td>Deitel</td>\n    </tr>\n  </tbody>\n</table>\n</div>"
                    },
                    "metadata": {},
                    "execution_count": 16,
                    "output_type": "execute_result"
                }
            ],
            "execution_count": 16
        },
        {
            "cell_type": "markdown",
            "source": [
                "              \n",
                "\n",
                "### Combining the `WHERE` and `ORDER BY` Clauses"
            ],
            "metadata": {
                "azdata_cell_guid": "84ae6562-5e82-442b-bd2a-8bd3022719de"
            }
        },
        {
            "cell_type": "markdown",
            "source": [
                "The WHERE and ORDER BY clauses can be combined in one query. Let’s get the isbn, title, edition and copyright of each book in the titles table that has a title ending with 'How to Program' and sort them in ascending order by title.\n",
                "\n"
            ],
            "metadata": {
                "azdata_cell_guid": "759d3346-2bbc-4713-aa0c-9b07066019cd"
            },
            "attachments": {}
        },
        {
            "cell_type": "code",
            "source": [
                "pd.read_sql(\"\"\"\n",
                "                SELECT \n",
                "                    isbn,\n",
                "                    title,\n",
                "                    edition,\n",
                "                    copyright\n",
                "                FROM \n",
                "                    titles\n",
                "                WHERE\n",
                "                    title LIKE '%How to Program' \n",
                "                ORDER BY\n",
                "                    title ASC\"\"\", connection)"
            ],
            "metadata": {
                "azdata_cell_guid": "25006857-297d-4930-8c2b-396207665252",
                "language": "python"
            },
            "outputs": [
                {
                    "data": {
                        "text/plain": "         isbn                             title  edition copyright\n0  0134444302            Android How to Program        3      2017\n1  0133976890                  C How to Program        8      2016\n2  0134448235                C++ How to Program       10      2017\n3  0132151006     Internet & WWW How to Program        5      2012\n4  0134743350               Java How to Program       11      2018\n5  0133406954  Visual Basic 2012 How to Program        6      2014\n6  0134601548          Visual C# How to Program        6      2017\n7  0136151574         Visual C++ How to Program        2      2008",
                        "text/html": "<div>\n<style scoped>\n    .dataframe tbody tr th:only-of-type {\n        vertical-align: middle;\n    }\n\n    .dataframe tbody tr th {\n        vertical-align: top;\n    }\n\n    .dataframe thead th {\n        text-align: right;\n    }\n</style>\n<table border=\"1\" class=\"dataframe\">\n  <thead>\n    <tr style=\"text-align: right;\">\n      <th></th>\n      <th>isbn</th>\n      <th>title</th>\n      <th>edition</th>\n      <th>copyright</th>\n    </tr>\n  </thead>\n  <tbody>\n    <tr>\n      <th>0</th>\n      <td>0134444302</td>\n      <td>Android How to Program</td>\n      <td>3</td>\n      <td>2017</td>\n    </tr>\n    <tr>\n      <th>1</th>\n      <td>0133976890</td>\n      <td>C How to Program</td>\n      <td>8</td>\n      <td>2016</td>\n    </tr>\n    <tr>\n      <th>2</th>\n      <td>0134448235</td>\n      <td>C++ How to Program</td>\n      <td>10</td>\n      <td>2017</td>\n    </tr>\n    <tr>\n      <th>3</th>\n      <td>0132151006</td>\n      <td>Internet &amp; WWW How to Program</td>\n      <td>5</td>\n      <td>2012</td>\n    </tr>\n    <tr>\n      <th>4</th>\n      <td>0134743350</td>\n      <td>Java How to Program</td>\n      <td>11</td>\n      <td>2018</td>\n    </tr>\n    <tr>\n      <th>5</th>\n      <td>0133406954</td>\n      <td>Visual Basic 2012 How to Program</td>\n      <td>6</td>\n      <td>2014</td>\n    </tr>\n    <tr>\n      <th>6</th>\n      <td>0134601548</td>\n      <td>Visual C# How to Program</td>\n      <td>6</td>\n      <td>2017</td>\n    </tr>\n    <tr>\n      <th>7</th>\n      <td>0136151574</td>\n      <td>Visual C++ How to Program</td>\n      <td>2</td>\n      <td>2008</td>\n    </tr>\n  </tbody>\n</table>\n</div>"
                    },
                    "metadata": {},
                    "execution_count": 17,
                    "output_type": "execute_result"
                }
            ],
            "execution_count": 17
        },
        {
            "cell_type": "markdown",
            "source": [
                "## Self Check\n",
                "SQL keyword **ORDER BY** specifies the order in which records are sorted in a query."
            ],
            "metadata": {
                "azdata_cell_guid": "681b7286-78ac-4f40-86e2-c977585b08aa",
                "language": "python"
            },
            "attachments": {}
        },
        {
            "cell_type": "markdown",
            "source": [
                "Complete 17.2.5 INNER JOIN (1 query)"
            ],
            "metadata": {
                "azdata_cell_guid": "4e837c09-de4b-4521-9645-2489a6518c90"
            },
            "attachments": {}
        },
        {
            "cell_type": "markdown",
            "source": [
                "# SECTION 4. `INNER JOIN` Statement\n",
                "\n",
                "## Merging Data from Multiple Tables:\n",
                "\n",
                "You can merge data from multiple tables, referred to as joining the tables, with INNER JOIN. Let’s produce a list of authors accompanied by the ISBNs for books written by each author—because there are many results for this query, we show just the head of the result:"
            ],
            "metadata": {
                "azdata_cell_guid": "43a9f689-a6d7-4867-a4a7-ff903ea878e9"
            },
            "attachments": {}
        },
        {
            "cell_type": "code",
            "source": [
                "pd.read_sql(\"\"\"\n",
                "                SELECT \n",
                "                    a.id,\n",
                "                    first,\n",
                "                    last,\n",
                "                    isbn\n",
                "                FROM \n",
                "                    authors a\n",
                "                INNER JOIN\n",
                "                    author_ISBN ai\n",
                "                ON\n",
                "                    a.id = ai.id\n",
                "                ORDER BY\n",
                "                    last, first\"\"\", connection, index_col=['id']).head()"
            ],
            "metadata": {
                "azdata_cell_guid": "c9a77be3-1a82-4dcc-81bc-d596aa820dd8",
                "language": "python"
            },
            "outputs": [
                {
                    "data": {
                        "text/plain": "     first    last        isbn\nid                            \n3    Abbey  Deitel  0132151006\n3    Abbey  Deitel  0133406954\n2   Harvey  Deitel  0134289366\n2   Harvey  Deitel  0135404673\n2   Harvey  Deitel  0132151006",
                        "text/html": "<div>\n<style scoped>\n    .dataframe tbody tr th:only-of-type {\n        vertical-align: middle;\n    }\n\n    .dataframe tbody tr th {\n        vertical-align: top;\n    }\n\n    .dataframe thead th {\n        text-align: right;\n    }\n</style>\n<table border=\"1\" class=\"dataframe\">\n  <thead>\n    <tr style=\"text-align: right;\">\n      <th></th>\n      <th>first</th>\n      <th>last</th>\n      <th>isbn</th>\n    </tr>\n    <tr>\n      <th>id</th>\n      <th></th>\n      <th></th>\n      <th></th>\n    </tr>\n  </thead>\n  <tbody>\n    <tr>\n      <th>3</th>\n      <td>Abbey</td>\n      <td>Deitel</td>\n      <td>0132151006</td>\n    </tr>\n    <tr>\n      <th>3</th>\n      <td>Abbey</td>\n      <td>Deitel</td>\n      <td>0133406954</td>\n    </tr>\n    <tr>\n      <th>2</th>\n      <td>Harvey</td>\n      <td>Deitel</td>\n      <td>0134289366</td>\n    </tr>\n    <tr>\n      <th>2</th>\n      <td>Harvey</td>\n      <td>Deitel</td>\n      <td>0135404673</td>\n    </tr>\n    <tr>\n      <th>2</th>\n      <td>Harvey</td>\n      <td>Deitel</td>\n      <td>0132151006</td>\n    </tr>\n  </tbody>\n</table>\n</div>"
                    },
                    "metadata": {},
                    "execution_count": 18,
                    "output_type": "execute_result"
                }
            ],
            "execution_count": 18
        },
        {
            "cell_type": "markdown",
            "source": [
                "The INNER JOIN’s ON clause uses a primary-key column in one table and a foreign-key column in the other to determine which rows to merge from each table. \n",
                "\n",
                "Note the syntax a.id (table_alias.column_name) in the ON clause. This qualified name syntax is required if the columns have the same name in both tables.\n"
            ],
            "metadata": {
                "azdata_cell_guid": "99fd9039-9a1e-422d-ab80-80bb9c6cfabc",
                "language": "python"
            },
            "attachments": {}
        },
        {
            "cell_type": "markdown",
            "source": [
                "\n",
                "### Self Check\n",
                "A **qualified name** specifies the fields from multiple tables that should be compared to join the tables."
            ],
            "metadata": {
                "azdata_cell_guid": "b358a764-83d2-41c4-8e6c-69b7407e1099",
                "language": "python"
            },
            "attachments": {}
        },
        {
            "cell_type": "markdown",
            "source": [
                "Complete 17.2.6 INSERT INTO (2 queries)"
            ],
            "metadata": {
                "azdata_cell_guid": "21240b0e-2660-4d07-9e35-1c7951ba0783",
                "language": "python"
            },
            "attachments": {}
        },
        {
            "cell_type": "markdown",
            "source": [
                "# SECTION 5. `INSERT INTO` Statement"
            ],
            "metadata": {
                "azdata_cell_guid": "e0322569-7490-4b68-8273-b6944f10a86c"
            },
            "attachments": {}
        },
        {
            "cell_type": "markdown",
            "source": [
                "To this point, you’ve queried existing data. Sometimes you’ll execute SQL statements that modify the database. To do so, you’ll use a sqlite3 Cursor object, which you obtain by calling the Connection’s cursor method:"
            ],
            "metadata": {
                "azdata_cell_guid": "04c12fc2-3e6a-4c04-87b5-a204df589aca"
            },
            "attachments": {}
        },
        {
            "cell_type": "code",
            "source": [
                "cursor = connection.cursor()"
            ],
            "metadata": {
                "azdata_cell_guid": "718e4dc2-9d1a-4fa8-9bf5-5e09cde4c84a",
                "language": "python"
            },
            "outputs": [],
            "execution_count": 19
        },
        {
            "cell_type": "markdown",
            "source": [
                "The pandas method read_sql actually uses a Cursor behind the scenes to execute queries and access the rows of the results."
            ],
            "metadata": {
                "azdata_cell_guid": "19d0f186-1d8c-4570-a817-e4bef2db7d3a",
                "language": "python"
            },
            "attachments": {}
        },
        {
            "cell_type": "markdown",
            "source": [
                "The INSERT INTO statement inserts a row into a table. Let’s insert a new author named Sue Red into the authors table by calling Cursor method execute, which executes its SQL argument and returns the Cursor:\n",
                "\n"
            ],
            "metadata": {
                "azdata_cell_guid": "0a1b158b-8c0d-401c-bec9-ee7931011162",
                "language": "python"
            },
            "attachments": {}
        },
        {
            "cell_type": "code",
            "source": [
                "cursor = cursor.execute(\"\"\"\n",
                "                            INSERT INTO \n",
                "                                authors (first, last)\n",
                "                            VALUES \n",
                "                                ('Sue', 'Red')\"\"\")"
            ],
            "metadata": {
                "azdata_cell_guid": "91af3dd8-d917-4dd5-af09-88eae64b1596",
                "language": "python",
                "tags": []
            },
            "outputs": [],
            "execution_count": 20
        },
        {
            "cell_type": "markdown",
            "source": [
                "To confirm the insertion of a new row, let’s query the authors table’s contents:"
            ],
            "metadata": {
                "azdata_cell_guid": "b09d909b-dc75-45d9-9fbe-14572681e087",
                "language": "python"
            },
            "attachments": {}
        },
        {
            "cell_type": "code",
            "source": [
                "pd.read_sql(\"\"\"\n",
                "                SELECT \n",
                "                    id, \n",
                "                    first, \n",
                "                    last \n",
                "                FROM \n",
                "                    authors\"\"\", \n",
                "             connection, index_col=['id'])\n",
                "             "
            ],
            "metadata": {
                "azdata_cell_guid": "fe163fdb-559f-47c2-b504-528c2dcecedb",
                "language": "python"
            },
            "outputs": [
                {
                    "data": {
                        "text/plain": "        first    last\nid                   \n1        Paul  Deitel\n2      Harvey  Deitel\n3       Abbey  Deitel\n4         Dan   Quirk\n5   Alexander    Wald\n6         Sue     Red",
                        "text/html": "<div>\n<style scoped>\n    .dataframe tbody tr th:only-of-type {\n        vertical-align: middle;\n    }\n\n    .dataframe tbody tr th {\n        vertical-align: top;\n    }\n\n    .dataframe thead th {\n        text-align: right;\n    }\n</style>\n<table border=\"1\" class=\"dataframe\">\n  <thead>\n    <tr style=\"text-align: right;\">\n      <th></th>\n      <th>first</th>\n      <th>last</th>\n    </tr>\n    <tr>\n      <th>id</th>\n      <th></th>\n      <th></th>\n    </tr>\n  </thead>\n  <tbody>\n    <tr>\n      <th>1</th>\n      <td>Paul</td>\n      <td>Deitel</td>\n    </tr>\n    <tr>\n      <th>2</th>\n      <td>Harvey</td>\n      <td>Deitel</td>\n    </tr>\n    <tr>\n      <th>3</th>\n      <td>Abbey</td>\n      <td>Deitel</td>\n    </tr>\n    <tr>\n      <th>4</th>\n      <td>Dan</td>\n      <td>Quirk</td>\n    </tr>\n    <tr>\n      <th>5</th>\n      <td>Alexander</td>\n      <td>Wald</td>\n    </tr>\n    <tr>\n      <th>6</th>\n      <td>Sue</td>\n      <td>Red</td>\n    </tr>\n  </tbody>\n</table>\n</div>"
                    },
                    "metadata": {},
                    "execution_count": 21,
                    "output_type": "execute_result"
                }
            ],
            "execution_count": 21
        },
        {
            "cell_type": "markdown",
            "source": [
                "Complete 17.2.7 UPDATE (2 queries)"
            ],
            "metadata": {
                "azdata_cell_guid": "5d89aa75-a424-4344-b353-025816877b5f"
            },
            "attachments": {}
        },
        {
            "cell_type": "markdown",
            "source": [
                "### Note Regarding Strings That Contain Single Quotes\n",
                "SQL delimits strings with single quotes ('). A string containing a single quote, such as O’Malley, must have two single quotes in the position where the single quote appears (e.g., 'O''Malley'). The first acts as an escape character for the second. Not escaping single-quote characters in a string that’s part of a SQL statement is a SQL syntax error."
            ],
            "metadata": {
                "azdata_cell_guid": "d2e457fe-2db5-4d07-b79e-0c859d1e97b8"
            },
            "attachments": {}
        },
        {
            "cell_type": "markdown",
            "source": [
                "# SECTION 6. `UPDATE` Statement\n",
                "### An UPDATE statement modifies existing values. \n",
                "\n",
                "The UPDATE keyword is followed by the table to update, the keyword SET and a comma-separated list of column_name = value pairs indicating the columns to change and their new values.\n",
                "\n",
                "To make a change to only one row, it’s best to use the row’s unique primary key in the WHERE clause"
            ],
            "metadata": {
                "azdata_cell_guid": "18c46377-7702-47b9-9657-0c2a5bf852ee"
            },
            "attachments": {}
        },
        {
            "cell_type": "code",
            "source": [
                "cursor = cursor.execute(\"\"\"\n",
                "                            UPDATE \n",
                "                                authors \n",
                "                            SET \n",
                "                                last = 'Black'\n",
                "                            WHERE \n",
                "                                last= 'Red' \n",
                "                            AND \n",
                "                                first='Sue'\"\"\") "
            ],
            "metadata": {
                "azdata_cell_guid": "3f554582-30f5-497c-bf9a-0ce159c6e33f",
                "language": "python"
            },
            "outputs": [],
            "execution_count": 22
        },
        {
            "cell_type": "markdown",
            "source": [
                "For statements that modify the database, the Cursor object’s rowcount attribute contains an integer value representing the number of rows that were modified. If this value is 0, no changes were made. "
            ],
            "metadata": {
                "azdata_cell_guid": "53e383b6-4fd2-4663-b127-ed8f8ca4cded",
                "language": "python"
            },
            "attachments": {}
        },
        {
            "cell_type": "code",
            "source": [
                "cursor.rowcount"
            ],
            "metadata": {
                "azdata_cell_guid": "fdd2c4d2-dbb2-4779-932c-2a151c9b19ec",
                "language": "python"
            },
            "outputs": [
                {
                    "data": {
                        "text/plain": "1"
                    },
                    "metadata": {},
                    "execution_count": 23,
                    "output_type": "execute_result"
                }
            ],
            "execution_count": 23
        },
        {
            "cell_type": "code",
            "source": [
                "pd.read_sql('SELECT id, first, last FROM authors', \n",
                "             connection, index_col=['id'])\n",
                "             "
            ],
            "metadata": {
                "azdata_cell_guid": "f25d89ab-c0d4-48c2-afb1-1ee9471997d6",
                "language": "python"
            },
            "outputs": [
                {
                    "data": {
                        "text/plain": "        first    last\nid                   \n1        Paul  Deitel\n2      Harvey  Deitel\n3       Abbey  Deitel\n4         Dan   Quirk\n5   Alexander    Wald\n6         Sue   Black",
                        "text/html": "<div>\n<style scoped>\n    .dataframe tbody tr th:only-of-type {\n        vertical-align: middle;\n    }\n\n    .dataframe tbody tr th {\n        vertical-align: top;\n    }\n\n    .dataframe thead th {\n        text-align: right;\n    }\n</style>\n<table border=\"1\" class=\"dataframe\">\n  <thead>\n    <tr style=\"text-align: right;\">\n      <th></th>\n      <th>first</th>\n      <th>last</th>\n    </tr>\n    <tr>\n      <th>id</th>\n      <th></th>\n      <th></th>\n    </tr>\n  </thead>\n  <tbody>\n    <tr>\n      <th>1</th>\n      <td>Paul</td>\n      <td>Deitel</td>\n    </tr>\n    <tr>\n      <th>2</th>\n      <td>Harvey</td>\n      <td>Deitel</td>\n    </tr>\n    <tr>\n      <th>3</th>\n      <td>Abbey</td>\n      <td>Deitel</td>\n    </tr>\n    <tr>\n      <th>4</th>\n      <td>Dan</td>\n      <td>Quirk</td>\n    </tr>\n    <tr>\n      <th>5</th>\n      <td>Alexander</td>\n      <td>Wald</td>\n    </tr>\n    <tr>\n      <th>6</th>\n      <td>Sue</td>\n      <td>Black</td>\n    </tr>\n  </tbody>\n</table>\n</div>"
                    },
                    "metadata": {},
                    "execution_count": 24,
                    "output_type": "execute_result"
                }
            ],
            "execution_count": 24
        },
        {
            "cell_type": "markdown",
            "source": [
                "Complete 17.2.8 DELETE FROM (2 queries)"
            ],
            "metadata": {
                "azdata_cell_guid": "5a97992e-beb3-404c-a7cf-b3d0b8c7a4f1"
            },
            "attachments": {}
        },
        {
            "cell_type": "markdown",
            "source": [
                "# SECTION 7. `DELETE FROM` Statement\n",
                "A SQL DELETE FROM statement removes rows from a table. The optional WHERE clause determines which rows to delete. If WHERE is omitted, all the table’s rows are deleted. Let’s remove Sue Black from the authors table using her author ID:"
            ],
            "metadata": {
                "azdata_cell_guid": "4f139de8-317e-4d82-8da7-e523dbada0e2"
            },
            "attachments": {}
        },
        {
            "cell_type": "code",
            "source": [
                "cursor = cursor.execute('DELETE FROM authors WHERE id = 6') "
            ],
            "metadata": {
                "azdata_cell_guid": "ce30f15a-a08a-4951-b787-ceebaf5178f7",
                "language": "python"
            },
            "outputs": [],
            "execution_count": 25
        },
        {
            "cell_type": "markdown",
            "source": [
                "The Cursor object’s rowcount to show the changes made."
            ],
            "metadata": {
                "azdata_cell_guid": "4469fcca-86e1-4ffb-ab38-b04deadb910a",
                "language": "python"
            },
            "attachments": {}
        },
        {
            "cell_type": "code",
            "source": [
                "cursor.rowcount"
            ],
            "metadata": {
                "azdata_cell_guid": "e658c275-7ed3-4d10-b4c6-56dc45137ad6",
                "language": "python"
            },
            "outputs": [
                {
                    "data": {
                        "text/plain": "1"
                    },
                    "metadata": {},
                    "execution_count": 26,
                    "output_type": "execute_result"
                }
            ],
            "execution_count": 26
        },
        {
            "cell_type": "markdown",
            "source": [
                "Here’s the authors table after the DELETE operation:"
            ],
            "metadata": {
                "azdata_cell_guid": "71ca1d13-0aa6-4ec4-bb90-5353981a4ee9",
                "language": "python"
            },
            "attachments": {}
        },
        {
            "cell_type": "code",
            "source": [
                "pd.read_sql('SELECT id, first, last FROM authors', \n",
                "             connection, index_col=['id'])"
            ],
            "metadata": {
                "azdata_cell_guid": "d71be2c9-3533-429a-9cbe-96ceb594700e",
                "language": "python"
            },
            "outputs": [
                {
                    "data": {
                        "text/plain": "        first    last\nid                   \n1        Paul  Deitel\n2      Harvey  Deitel\n3       Abbey  Deitel\n4         Dan   Quirk\n5   Alexander    Wald",
                        "text/html": "<div>\n<style scoped>\n    .dataframe tbody tr th:only-of-type {\n        vertical-align: middle;\n    }\n\n    .dataframe tbody tr th {\n        vertical-align: top;\n    }\n\n    .dataframe thead th {\n        text-align: right;\n    }\n</style>\n<table border=\"1\" class=\"dataframe\">\n  <thead>\n    <tr style=\"text-align: right;\">\n      <th></th>\n      <th>first</th>\n      <th>last</th>\n    </tr>\n    <tr>\n      <th>id</th>\n      <th></th>\n      <th></th>\n    </tr>\n  </thead>\n  <tbody>\n    <tr>\n      <th>1</th>\n      <td>Paul</td>\n      <td>Deitel</td>\n    </tr>\n    <tr>\n      <th>2</th>\n      <td>Harvey</td>\n      <td>Deitel</td>\n    </tr>\n    <tr>\n      <th>3</th>\n      <td>Abbey</td>\n      <td>Deitel</td>\n    </tr>\n    <tr>\n      <th>4</th>\n      <td>Dan</td>\n      <td>Quirk</td>\n    </tr>\n    <tr>\n      <th>5</th>\n      <td>Alexander</td>\n      <td>Wald</td>\n    </tr>\n  </tbody>\n</table>\n</div>"
                    },
                    "metadata": {},
                    "execution_count": 27,
                    "output_type": "execute_result"
                }
            ],
            "execution_count": 27
        },
        {
            "cell_type": "markdown",
            "source": [
                "Final Results, SELECT \\* from each table and display the final state of each of the 3 tables."
            ],
            "metadata": {
                "azdata_cell_guid": "ab7b050f-eea3-4cbb-9606-0c37d8bf8e9e",
                "language": "python"
            },
            "attachments": {}
        },
        {
            "cell_type": "markdown",
            "source": [
                "# SECETION 8. `authors`, `titles`, `author_ISBN` Tables' Final Contents"
            ],
            "metadata": {
                "azdata_cell_guid": "62012798-406f-4f99-97ee-b6daeca34096",
                "language": "python"
            },
            "attachments": {}
        },
        {
            "cell_type": "markdown",
            "source": [
                "### Viewing the final `authors` table’s contents"
            ],
            "metadata": {
                "azdata_cell_guid": "28c5ccc1-d008-4ed1-8307-ed1e890acce4",
                "language": "python"
            },
            "attachments": {}
        },
        {
            "cell_type": "code",
            "source": [
                "pd.read_sql('SELECT * FROM authors', \n",
                "             connection, index_col=['id'])"
            ],
            "metadata": {
                "azdata_cell_guid": "0efaba9c-5b30-40b8-8ff7-441e98cda3ce",
                "language": "python"
            },
            "outputs": [
                {
                    "data": {
                        "text/plain": "        first    last\nid                   \n1        Paul  Deitel\n2      Harvey  Deitel\n3       Abbey  Deitel\n4         Dan   Quirk\n5   Alexander    Wald",
                        "text/html": "<div>\n<style scoped>\n    .dataframe tbody tr th:only-of-type {\n        vertical-align: middle;\n    }\n\n    .dataframe tbody tr th {\n        vertical-align: top;\n    }\n\n    .dataframe thead th {\n        text-align: right;\n    }\n</style>\n<table border=\"1\" class=\"dataframe\">\n  <thead>\n    <tr style=\"text-align: right;\">\n      <th></th>\n      <th>first</th>\n      <th>last</th>\n    </tr>\n    <tr>\n      <th>id</th>\n      <th></th>\n      <th></th>\n    </tr>\n  </thead>\n  <tbody>\n    <tr>\n      <th>1</th>\n      <td>Paul</td>\n      <td>Deitel</td>\n    </tr>\n    <tr>\n      <th>2</th>\n      <td>Harvey</td>\n      <td>Deitel</td>\n    </tr>\n    <tr>\n      <th>3</th>\n      <td>Abbey</td>\n      <td>Deitel</td>\n    </tr>\n    <tr>\n      <th>4</th>\n      <td>Dan</td>\n      <td>Quirk</td>\n    </tr>\n    <tr>\n      <th>5</th>\n      <td>Alexander</td>\n      <td>Wald</td>\n    </tr>\n  </tbody>\n</table>\n</div>"
                    },
                    "metadata": {},
                    "execution_count": 28,
                    "output_type": "execute_result"
                }
            ],
            "execution_count": 28
        },
        {
            "cell_type": "markdown",
            "source": [
                "### Viewing the final `titles` table’s contents"
            ],
            "metadata": {
                "azdata_cell_guid": "1beb055b-d1d6-476d-b7ba-e9690e27b876",
                "language": "python"
            },
            "attachments": {}
        },
        {
            "cell_type": "code",
            "source": [
                "pd.read_sql('SELECT * FROM titles', \n",
                "             connection)"
            ],
            "metadata": {
                "azdata_cell_guid": "25d3f63a-505e-4c41-abc6-0f9a1d951f0f",
                "language": "python"
            },
            "outputs": [
                {
                    "data": {
                        "text/plain": "         isbn                             title  edition copyright\n0  0135404673     Intro to Python for CS and DS        1      2020\n1  0132151006     Internet & WWW How to Program        5      2012\n2  0134743350               Java How to Program       11      2018\n3  0133976890                  C How to Program        8      2016\n4  0133406954  Visual Basic 2012 How to Program        6      2014\n5  0134601548          Visual C# How to Program        6      2017\n6  0136151574         Visual C++ How to Program        2      2008\n7  0134448235                C++ How to Program       10      2017\n8  0134444302            Android How to Program        3      2017\n9  0134289366         Android 6 for Programmers        3      2016",
                        "text/html": "<div>\n<style scoped>\n    .dataframe tbody tr th:only-of-type {\n        vertical-align: middle;\n    }\n\n    .dataframe tbody tr th {\n        vertical-align: top;\n    }\n\n    .dataframe thead th {\n        text-align: right;\n    }\n</style>\n<table border=\"1\" class=\"dataframe\">\n  <thead>\n    <tr style=\"text-align: right;\">\n      <th></th>\n      <th>isbn</th>\n      <th>title</th>\n      <th>edition</th>\n      <th>copyright</th>\n    </tr>\n  </thead>\n  <tbody>\n    <tr>\n      <th>0</th>\n      <td>0135404673</td>\n      <td>Intro to Python for CS and DS</td>\n      <td>1</td>\n      <td>2020</td>\n    </tr>\n    <tr>\n      <th>1</th>\n      <td>0132151006</td>\n      <td>Internet &amp; WWW How to Program</td>\n      <td>5</td>\n      <td>2012</td>\n    </tr>\n    <tr>\n      <th>2</th>\n      <td>0134743350</td>\n      <td>Java How to Program</td>\n      <td>11</td>\n      <td>2018</td>\n    </tr>\n    <tr>\n      <th>3</th>\n      <td>0133976890</td>\n      <td>C How to Program</td>\n      <td>8</td>\n      <td>2016</td>\n    </tr>\n    <tr>\n      <th>4</th>\n      <td>0133406954</td>\n      <td>Visual Basic 2012 How to Program</td>\n      <td>6</td>\n      <td>2014</td>\n    </tr>\n    <tr>\n      <th>5</th>\n      <td>0134601548</td>\n      <td>Visual C# How to Program</td>\n      <td>6</td>\n      <td>2017</td>\n    </tr>\n    <tr>\n      <th>6</th>\n      <td>0136151574</td>\n      <td>Visual C++ How to Program</td>\n      <td>2</td>\n      <td>2008</td>\n    </tr>\n    <tr>\n      <th>7</th>\n      <td>0134448235</td>\n      <td>C++ How to Program</td>\n      <td>10</td>\n      <td>2017</td>\n    </tr>\n    <tr>\n      <th>8</th>\n      <td>0134444302</td>\n      <td>Android How to Program</td>\n      <td>3</td>\n      <td>2017</td>\n    </tr>\n    <tr>\n      <th>9</th>\n      <td>0134289366</td>\n      <td>Android 6 for Programmers</td>\n      <td>3</td>\n      <td>2016</td>\n    </tr>\n  </tbody>\n</table>\n</div>"
                    },
                    "metadata": {},
                    "execution_count": 29,
                    "output_type": "execute_result"
                }
            ],
            "execution_count": 29
        },
        {
            "cell_type": "markdown",
            "source": [
                "### Viewing the final `author_ISBN` table’s contents"
            ],
            "metadata": {
                "azdata_cell_guid": "e3399db7-ae57-41d6-b4bc-ab24e66c7142",
                "language": "python"
            },
            "attachments": {}
        },
        {
            "cell_type": "code",
            "source": [
                "pd.read_sql('SELECT * FROM author_ISBN', \n",
                "             connection)"
            ],
            "metadata": {
                "azdata_cell_guid": "61faefc7-212b-4f55-9e07-757c0bc87be6",
                "language": "python"
            },
            "outputs": [
{
    "data": {
        "text/plain": "    id        isbn\n0    1  0134289366\n1    2  0134289366\n2    5  0134289366\n3    1  0135404673\n4    2  0135404673\n5    1  0132151006\n6    2  0132151006\n7    3  0132151006\n8    1  0134743350\n9    2  0134743350\n10   1  0133976890\n11   2  0133976890\n12   1  0133406954\n13   2  0133406954\n14   3  0133406954\n15   1  0134601548\n16   2  0134601548\n17   1  0136151574\n18   2  0136151574\n19   4  0136151574\n20   1  0134448235\n21   2  0134448235\n22   1  0134444302\n23   2  0134444302",
        "text/html": "<div>\n<style scoped>\n    .dataframe tbody tr th:only-of-type {\n        vertical-align: middle;\n    }\n\n    .dataframe tbody tr th {\n        vertical-align: top;\n    }\n\n    .dataframe thead th {\n        text-align: right;\n    }\n</style>\n<table border=\"1\" class=\"dataframe\">\n  <thead>\n    <tr style=\"text-align: right;\">\n      <th></th>\n      <th>id</th>\n      <th>isbn</th>\n    </tr>\n  </thead>\n  <tbody>\n    <tr>\n      <th>0</th>\n      <td>1</td>\n      <td>0134289366</td>\n    </tr>\n    <tr>\n      <th>1</th>\n      <td>2</td>\n      <td>0134289366</td>\n    </tr>\n    <tr>\n      <th>2</th>\n      <td>5</td>\n      <td>0134289366</td>\n    </tr>\n    <tr>\n      <th>3</th>\n      <td>1</td>\n      <td>0135404673</td>\n    </tr>\n    <tr>\n      <th>4</th>\n      <td>2</td>\n      <td>0135404673</td>\n    </tr>\n    <tr>\n      <th>5</th>\n      <td>1</td>\n      <td>0132151006</td>\n    </tr>\n    <tr>\n      <th>6</th>\n      <td>2</td>\n      <td>0132151006</td>\n    </tr>\n    <tr>\n      <th>7</th>\n      <td>3</td>\n      <td>0132151006</td>\n    </tr>\n    <tr>\n      <th>8</th>\n      <td>1</td>\n      <td>0134743350</td>\n    </tr>\n    <tr>\n      <th>9</th>\n      <td>2</td>\n      <td>0134743350</td>\n    </tr>\n    <tr>\n      <th>10</th>\n      <td>1</td>\n      <td>0133976890</td>\n    </tr>\n    <tr>\n      <th>11</th>\n      <td>2</td>\n      <td>0133976890</td>\n    </tr>\n    <tr>\n      <th>12</th>\n      <td>1</td>\n      <td>0133406954</td>\n    </tr>\n    <tr>\n      <th>13</th>\n      <td>2</td>\n      <td>0133406954</td>\n    </tr>\n    <tr>\n      <th>14</th>\n      <td>3</td>\n      <td>0133406954</td>\n    </tr>\n    <tr>\n      <th>15</th>\n      <td>1</td>\n      <td>0134601548</td>\n    </tr>\n    <tr>\n      <th>16</th>\n      <td>2</td>\n      <td>0134601548</td>\n    </tr>\n    <tr>\n      <th>17</th>\n      <td>1</td>\n      <td>0136151574</td>\n    </tr>\n    <tr>\n      <th>18</th>\n      <td>2</td>\n      <td>0136151574</td>\n    </tr>\n    <tr>\n      <th>19</th>\n      <td>4</td>\n      <td>0136151574</td>\n    </tr>\n    <tr>\n      <th>20</th>\n      <td>1</td>\n      <td>0134448235</td>\n    </tr>\n    <tr>\n      <th>21</th>\n      <td>2</td>\n      <td>0134448235</td>\n    </tr>\n    <tr>\n      <th>22</th>\n      <td>1</td>\n      <td>0134444302</td>\n    </tr>\n    <tr>\n      <th>23</th>\n      <td>2</td>\n      <td>0134444302</td>\n    </tr>\n  </tbody>\n</table>\n</div>"
    },
    "metadata": {},
    "execution_count": 30,
    "output_type": "execute_result"
}
],
            "execution_count": 30
        },
        {
            "cell_type": "markdown",
            "source": [
                "Required: Use Section headings in your Markdown to make it clear that each of these 8 sections are shown in your notebook. They should be numbered 1-8 and include the SQL keyword shown above. Use a heading before your the final results showing all 3 tables as well."
            ],
            "metadata": {
                "azdata_cell_guid": "695b5aef-08b8-4b06-b045-13ce7b7e7ab0",
                "language": "python"
            },
            "attachments": {}
        },
        {
            "cell_type": "markdown",
            "source": [
                "### Closing the Database\n",
                "When you no longer need access to the database, you should call the Connection’s close method to disconnect from the database."
            ],
            "metadata": {
                "azdata_cell_guid": "6c07dfe8-0423-4a79-9f67-c5baf9f63f67"
            },
            "attachments": {}
        },
        {
            "cell_type": "markdown",
            "source": [
                "```\n",
                "connection.close()\n",
                "```"
            ],
            "metadata": {
                "azdata_cell_guid": "b50fe38f-6fac-45d5-9d47-9d1a13b51cea"
            }
        }
    ]
}